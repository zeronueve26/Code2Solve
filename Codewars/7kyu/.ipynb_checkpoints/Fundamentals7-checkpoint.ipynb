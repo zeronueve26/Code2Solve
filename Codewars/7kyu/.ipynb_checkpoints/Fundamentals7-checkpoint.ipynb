{
 "cells": [
  {
   "cell_type": "code",
   "execution_count": 148,
   "metadata": {},
   "outputs": [
    {
     "name": "stdout",
     "output_type": "stream",
     "text": [
      "[1, 5, 8, 12, 18]\n"
     ]
    }
   ],
   "source": [
    "# Sum of two lowest positive integers\n",
    "# Create a function that returns the sum of the lowest positive numbers given an array of size >= 2 \n",
    "\n",
    "numbers = [1, 12, 8, 18, 5] # expected output 1+2 = 3\n",
    "# 2,1,4,3\n",
    "\n",
    "# # Easy solution:\n",
    "# def func1(numbers):\n",
    "#     numbers.sort()\n",
    "#     return(numbers[0]+numbers[1])\n",
    "\n",
    "\n",
    "# # Hard Solution not using sort algorithm \n",
    "\n",
    "for o in range(1,len(numbers)-1):     \n",
    "    for i in range(len(numbers)-2):\n",
    "        if numbers[o] < numbers[i]:   \n",
    "            low = numbers[o]          \n",
    "            numbers.pop(o)            \n",
    "            numbers.insert(i,low)\n",
    "            o += 1\n",
    "            while(i > 0):\n",
    "                if numbers[i] < numbers[i-1]:\n",
    "                    lw = numbers[i]\n",
    "                    numbers.pop(i)\n",
    "                    numbers.insert(i-1,lw)\n",
    "                i -=1\n",
    "                x = len(numbers)\n",
    "            if numbers[x-2] > numbers[x-1]:\n",
    "                lww = numbers[x-2]\n",
    "                numbers.pop(x-2)\n",
    "                numbers.insert(x-1,lww)\n",
    "\n",
    "            x -= 1\n",
    "print(numbers)\n",
    "\n"
   ]
  },
  {
   "cell_type": "code",
   "execution_count": null,
   "metadata": {},
   "outputs": [],
   "source": []
  },
  {
   "cell_type": "code",
   "execution_count": null,
   "metadata": {},
   "outputs": [],
   "source": []
  }
 ],
 "metadata": {
  "kernelspec": {
   "display_name": "Python 3",
   "language": "python",
   "name": "python3"
  },
  "language_info": {
   "codemirror_mode": {
    "name": "ipython",
    "version": 3
   },
   "file_extension": ".py",
   "mimetype": "text/x-python",
   "name": "python",
   "nbconvert_exporter": "python",
   "pygments_lexer": "ipython3",
   "version": "3.7.6"
  }
 },
 "nbformat": 4,
 "nbformat_minor": 4
}

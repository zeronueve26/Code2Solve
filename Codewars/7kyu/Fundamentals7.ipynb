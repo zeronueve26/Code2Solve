{
 "cells": [
  {
   "cell_type": "code",
   "execution_count": 148,
   "metadata": {},
   "outputs": [
    {
     "name": "stdout",
     "output_type": "stream",
     "text": [
      "[1, 5, 8, 12, 18]\n"
     ]
    }
   ],
   "source": [
    "# Sum of two lowest positive integers\n",
    "# Create a function that returns the sum of the lowest positive numbers given an array of size >= 2 \n",
    "\n",
    "numbers = [1, 12, 8, 18, 5] # expected output 1+2 = 3\n",
    "# 2,1,4,3\n",
    "\n",
    "# # Easy solution:\n",
    "# def func1(numbers):\n",
    "#     numbers.sort()\n",
    "#     return(numbers[0]+numbers[1])\n",
    "\n",
    "\n",
    "# # Hard Solution not using sort algorithm \n",
    "\n",
    "for o in range(1,len(numbers)-1):     \n",
    "    for i in range(len(numbers)-2):\n",
    "        if numbers[o] < numbers[i]:   \n",
    "            low = numbers[o]          \n",
    "            numbers.pop(o)            \n",
    "            numbers.insert(i,low)\n",
    "            o += 1\n",
    "            while(i > 0):\n",
    "                if numbers[i] < numbers[i-1]:\n",
    "                    lw = numbers[i]\n",
    "                    numbers.pop(i)\n",
    "                    numbers.insert(i-1,lw)\n",
    "                i -=1\n",
    "                x = len(numbers)\n",
    "            if numbers[x-2] > numbers[x-1]:\n",
    "                lww = numbers[x-2]\n",
    "                numbers.pop(x-2)\n",
    "                numbers.insert(x-1,lww)\n",
    "\n",
    "            x -= 1\n",
    "print(numbers)\n",
    "\n"
   ]
  },
  {
   "cell_type": "code",
   "execution_count": 2,
   "metadata": {},
   "outputs": [
    {
     "data": {
      "text/plain": [
       "['Ryan', 'Yous']"
      ]
     },
     "execution_count": 2,
     "metadata": {},
     "output_type": "execute_result"
    }
   ],
   "source": [
    "# Friend or Foe?\n",
    "# Make a program that filters a list of strings and returns a list with only your friends name in it.\n",
    "# If the string is 4 char long, it's a friend\n",
    "#Ex: Input = [\"Ryan\", \"Kieran\", \"Jason\", \"Yous\"], Output = [\"Ryan\", \"Yous\"]\n",
    "\n",
    "listName = [\"Ryan\", \"Kieran\", \"Jason\", \"Yous\"]\n",
    "def friend(x):\n",
    "    lista = []\n",
    "    for name in x:\n",
    "        if len(name) == 4:\n",
    "            lista.append(name)\n",
    "    return lista\n",
    "    \n",
    "friend(listName)"
   ]
  },
  {
   "cell_type": "code",
   "execution_count": 56,
   "metadata": {},
   "outputs": [
    {
     "data": {
      "text/plain": [
       "-1275"
      ]
     },
     "execution_count": 56,
     "metadata": {},
     "output_type": "execute_result"
    }
   ],
   "source": [
    "# Beginner Series #3 Sum of Numbers\n",
    "# Find the sum of all the integers between and including them and return it. \n",
    "# If the two numbers are equal return a or b.\n",
    "\n",
    "# Examples:\n",
    "\n",
    "# get_sum(1, 0) == 1   // 1 + 0 = 1\n",
    "# get_sum(1, 2) == 3   // 1 + 2 = 3\n",
    "# get_sum(0, 1) == 1   // 0 + 1 = 1\n",
    "# get_sum(1, 1) == 1   // 1 Since both are same\n",
    "# get_sum(-1, 0) == -1 // -1 + 0 = -1\n",
    "# get_sum(-1, 2) == 2  // -1 + 0 + 1 + 2 = 2\n",
    "\n",
    "a = -50\n",
    "b = 0\n",
    "\n",
    "def get_sum(a,b):\n",
    "    suma = 0\n",
    "    if a == b:\n",
    "        return a\n",
    "    elif a > b:\n",
    "        c = b\n",
    "        b = a\n",
    "        a = c\n",
    "    for i in range(a,b+1):\n",
    "        suma += i\n",
    "    return suma\n",
    "get_sum(a,b)\n",
    "\n",
    "\n",
    "\n"
   ]
  },
  {
   "cell_type": "code",
   "execution_count": 76,
   "metadata": {},
   "outputs": [
    {
     "data": {
      "text/plain": [
       "'554432'"
      ]
     },
     "execution_count": 76,
     "metadata": {},
     "output_type": "execute_result"
    }
   ],
   "source": [
    "# Descending Order\n",
    "# Your task is to make a function that \n",
    "# can take any non-negative integer as an \n",
    "# argument and return it with its digits in descending order. \n",
    "\n",
    "integ = '453254'\n",
    "\n",
    "def descending_order(num):\n",
    "    lista = []\n",
    "    for n in num:\n",
    "        lista.append(n)\n",
    "        lista.sort(reverse=True)\n",
    "        result = ''.join(lista)\n",
    "        \n",
    "        \n",
    "    return result\n",
    "\n",
    "\n",
    "descending_order(integ)\n",
    "    "
   ]
  },
  {
   "cell_type": "code",
   "execution_count": 93,
   "metadata": {},
   "outputs": [
    {
     "data": {
      "text/plain": [
       "13"
      ]
     },
     "execution_count": 93,
     "metadata": {},
     "output_type": "execute_result"
    }
   ],
   "source": [
    "# Complete the findNextSquare method that finds the next integral perfect \n",
    "# square after the one passed as a parameter. Recall that an integral perfect \n",
    "# square is an integer n such that sqrt(n) is also an integer.\n",
    "#If the parameter is itself not a perfect square then -1 should be returned. \n",
    "#You may assume the parameter is non-negative.\n",
    "\n",
    "n = 169\n",
    "def findNextSquare(n):\n",
    "    if n < 4:\n",
    "        return -1\n",
    "    else:\n",
    "        for i in range(2,n):\n",
    "            if i*i == n:\n",
    "                return i\n",
    "        return -1\n",
    "\n",
    "findNextSquare(n)\n",
    "    "
   ]
  },
  {
   "cell_type": "code",
   "execution_count": null,
   "metadata": {},
   "outputs": [],
   "source": []
  }
 ],
 "metadata": {
  "kernelspec": {
   "display_name": "Python 3",
   "language": "python",
   "name": "python3"
  },
  "language_info": {
   "codemirror_mode": {
    "name": "ipython",
    "version": 3
   },
   "file_extension": ".py",
   "mimetype": "text/x-python",
   "name": "python",
   "nbconvert_exporter": "python",
   "pygments_lexer": "ipython3",
   "version": "3.8.8"
  }
 },
 "nbformat": 4,
 "nbformat_minor": 4
}

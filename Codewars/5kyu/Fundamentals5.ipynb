{
 "cells": [
  {
   "cell_type": "code",
   "execution_count": 19,
   "metadata": {},
   "outputs": [
    {
     "name": "stdout",
     "output_type": "stream",
     "text": [
      "( 1\n",
      "( 2\n",
      "( 3\n"
     ]
    },
    {
     "data": {
      "text/plain": [
       "False"
      ]
     },
     "execution_count": 19,
     "metadata": {},
     "output_type": "execute_result"
    }
   ],
   "source": [
    "# Valid Parenthesis\n",
    "\n",
    "# Write a function that takes a string of parentheses, and determines if the order of the parentheses is valid. \n",
    "# The function should return true if the string is valid, and false if it's invalid.\n",
    "# Exmaple: \"() = valid, (())) = invalid, ()()() = valid\"\n",
    "\n",
    "s = \"((())))\"\n",
    "def valid_parentheses(string):\n",
    "    count = 0\n",
    "    for n in string:\n",
    "        if n == '(':\n",
    "            count += 1\n",
    "        elif n == ')':\n",
    "            count -= 1\n",
    "            if count < 0:\n",
    "                return False\n",
    "    if count == 0:\n",
    "        return True\n",
    "    return False\n",
    "    \n",
    "    \n",
    "valid_parentheses(s)"
   ]
  },
  {
   "cell_type": "code",
   "execution_count": null,
   "metadata": {},
   "outputs": [],
   "source": []
  }
 ],
 "metadata": {
  "kernelspec": {
   "display_name": "Python 3",
   "language": "python",
   "name": "python3"
  },
  "language_info": {
   "codemirror_mode": {
    "name": "ipython",
    "version": 3
   },
   "file_extension": ".py",
   "mimetype": "text/x-python",
   "name": "python",
   "nbconvert_exporter": "python",
   "pygments_lexer": "ipython3",
   "version": "3.7.6"
  }
 },
 "nbformat": 4,
 "nbformat_minor": 4
}

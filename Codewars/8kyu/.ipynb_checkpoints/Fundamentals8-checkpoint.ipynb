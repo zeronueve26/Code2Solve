{
 "cells": [
  {
   "cell_type": "code",
   "execution_count": 1,
   "metadata": {},
   "outputs": [],
   "source": [
    "# Even or Odd\n",
    "# Create a function that takes an integer as an argument \n",
    "# and returns \"Even\" for even numbers or \"Odd\" for odd numbers.\n",
    "\n",
    "def even_or_odd(number):\n",
    " if number % 2 != 0:\n",
    "   return \"Odd\"\n",
    " else:\n",
    "   return \"Even\"\n"
   ]
  },
  {
   "cell_type": "code",
   "execution_count": 2,
   "metadata": {},
   "outputs": [],
   "source": [
    "# Counting sheep\n",
    "# We need a function that counts the number of sheep present in the array (true means present)\n",
    "\n",
    "def count_sheeps(sheep):\n",
    "  # TODO May the force be with you\n",
    "    miss = 0\n",
    "    for i in sheep:\n",
    "        if i != True:\n",
    "            miss += 1\n",
    "    return len(sheep)-miss"
   ]
  },
  {
   "cell_type": "code",
   "execution_count": null,
   "metadata": {},
   "outputs": [],
   "source": []
  }
 ],
 "metadata": {
  "kernelspec": {
   "display_name": "Python 3",
   "language": "python",
   "name": "python3"
  },
  "language_info": {
   "codemirror_mode": {
    "name": "ipython",
    "version": 3
   },
   "file_extension": ".py",
   "mimetype": "text/x-python",
   "name": "python",
   "nbconvert_exporter": "python",
   "pygments_lexer": "ipython3",
   "version": "3.7.6"
  }
 },
 "nbformat": 4,
 "nbformat_minor": 4
}

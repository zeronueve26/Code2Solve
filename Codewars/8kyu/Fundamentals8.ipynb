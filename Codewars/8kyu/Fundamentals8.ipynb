{
 "cells": [
  {
   "cell_type": "code",
   "execution_count": 1,
   "metadata": {},
   "outputs": [],
   "source": [
    "# Even or Odd\n",
    "# Create a function that takes an integer as an argument \n",
    "# and returns \"Even\" for even numbers or \"Odd\" for odd numbers.\n",
    "\n",
    "def even_or_odd(number):\n",
    " if number % 2 != 0:\n",
    "   return \"Odd\"\n",
    " else:\n",
    "   return \"Even\"\n"
   ]
  },
  {
   "cell_type": "code",
   "execution_count": 2,
   "metadata": {},
   "outputs": [],
   "source": [
    "# Counting sheep\n",
    "# We need a function that counts the number of sheep present in the array (true means present)\n",
    "\n",
    "def count_sheeps(sheep):\n",
    "  # TODO May the force be with you\n",
    "    miss = 0\n",
    "    for i in sheep:\n",
    "        if i != True:\n",
    "            miss += 1\n",
    "    return len(sheep)-miss"
   ]
  },
  {
   "cell_type": "code",
   "execution_count": 19,
   "metadata": {},
   "outputs": [
    {
     "data": {
      "text/plain": [
       "'olleh'"
      ]
     },
     "execution_count": 19,
     "metadata": {},
     "output_type": "execute_result"
    }
   ],
   "source": [
    "# Reverse String\n",
    "# String input return in reverse order\n",
    "\n",
    "def reverseStr(string):\n",
    "    lista = []\n",
    "    for letter in string:\n",
    "        lista.insert(0,letter) #lista al reves\n",
    "    result = (\"\".join(lista)) #convertir a str\n",
    "    return result\n",
    "    \n",
    "reverseStr(\"hello\")\n",
    "    "
   ]
  },
  {
   "cell_type": "code",
   "execution_count": 43,
   "metadata": {},
   "outputs": [
    {
     "data": {
      "text/plain": [
       "'BCDEF'"
      ]
     },
     "execution_count": 43,
     "metadata": {},
     "output_type": "execute_result"
    }
   ],
   "source": [
    "# Remove First and Last Character\n",
    "# It's pretty straightforward. Your goal is to create a function that \n",
    "# removes the first and last characters of a string. \n",
    "# You're given one parameter, the original string. \n",
    "# You don't have to worry with strings with less than two characters.\n",
    "\n",
    "string = 'ABCDEFG' #output = 'BCDEF'\n",
    "\n",
    "def rmStr(x):\n",
    "    return x[1:len(x)-1]\n",
    "\n",
    "rmStr(string)\n",
    "    "
   ]
  },
  {
   "cell_type": "code",
   "execution_count": null,
   "metadata": {},
   "outputs": [],
   "source": []
  }
 ],
 "metadata": {
  "kernelspec": {
   "display_name": "Python 3",
   "language": "python",
   "name": "python3"
  },
  "language_info": {
   "codemirror_mode": {
    "name": "ipython",
    "version": 3
   },
   "file_extension": ".py",
   "mimetype": "text/x-python",
   "name": "python",
   "nbconvert_exporter": "python",
   "pygments_lexer": "ipython3",
   "version": "3.8.8"
  }
 },
 "nbformat": 4,
 "nbformat_minor": 4
}

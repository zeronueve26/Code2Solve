{
 "cells": [
  {
   "cell_type": "code",
   "execution_count": 79,
   "metadata": {},
   "outputs": [
    {
     "data": {
      "text/plain": [
       "['A', 'B', 'C', 'D']"
      ]
     },
     "execution_count": 79,
     "metadata": {},
     "output_type": "execute_result"
    }
   ],
   "source": [
    "# Unique in Order\n",
    "# the function takes as argument a sequence and returns a list of items without \n",
    "# any elements with the same value next to each other and preserving the original order of elements.\n",
    "\n",
    "str1 = 'AAABBCCDD'\n",
    "arr = []\n",
    "\n",
    "\n",
    "def fun1(str1):\n",
    "    if len(str1) == 0:\n",
    "        return arr\n",
    "    else:\n",
    "        arr.append(str1[0])\n",
    "        for i in range(len(str1)-1):\n",
    "            if str1[i+1] != arr[len(arr)-1]:\n",
    "                arr.insert(len(arr),str1[i+1])\n",
    "        return arr\n",
    "    \n",
    "fun1(str1)"
   ]
  },
  {
   "cell_type": "code",
   "execution_count": null,
   "metadata": {},
   "outputs": [],
   "source": [
    "# Dubstep\n",
    "# Remove WUB from the string but keeping the initial/between/end hidden word together \n",
    "def song_decoder(song):\n",
    "    result = song.split('WUB')\n",
    "    result = ' '.join(result).split()\n",
    "    return ' '.join(result)\n",
    "song_decoder(\"AWUBWUBWUBBALDWUBWUBWUBC\") # Should return 'A BALD C'"
   ]
  },
  {
   "cell_type": "code",
   "execution_count": 96,
   "metadata": {},
   "outputs": [
    {
     "data": {
      "text/plain": [
       "5"
      ]
     },
     "execution_count": 96,
     "metadata": {},
     "output_type": "execute_result"
    }
   ],
   "source": [
    "# Bit Counting\n",
    "\n",
    "# Write a function that takes an integer as input, and returns the number of bits that are equal \n",
    "# to one in the binary representation of that number. \n",
    "# You can guarantee that input is non-negative.\n",
    "# Example: 1234 => 10011010010 => return 5\n",
    "\n",
    "n = 1234\n",
    "\n",
    "def count_bits(n):\n",
    "    bitList = []\n",
    "    count = 0\n",
    "    if n == 0 or n == 1:\n",
    "        count = n\n",
    "        return count\n",
    "    else:\n",
    "        while (n > 0):\n",
    "            bitList.insert(0, n%2)\n",
    "            if(n%2 != 0):\n",
    "                count += 1\n",
    "            n = n//2\n",
    "        return count\n",
    "\n",
    "    \n",
    "count_bits(n)\n",
    "\n",
    "\n"
   ]
  },
  {
   "cell_type": "code",
   "execution_count": null,
   "metadata": {},
   "outputs": [],
   "source": []
  }
 ],
 "metadata": {
  "kernelspec": {
   "display_name": "Python 3",
   "language": "python",
   "name": "python3"
  },
  "language_info": {
   "codemirror_mode": {
    "name": "ipython",
    "version": 3
   },
   "file_extension": ".py",
   "mimetype": "text/x-python",
   "name": "python",
   "nbconvert_exporter": "python",
   "pygments_lexer": "ipython3",
   "version": "3.7.6"
  }
 },
 "nbformat": 4,
 "nbformat_minor": 4
}

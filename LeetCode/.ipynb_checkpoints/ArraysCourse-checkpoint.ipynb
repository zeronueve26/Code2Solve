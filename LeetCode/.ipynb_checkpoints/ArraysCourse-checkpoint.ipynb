{
 "cells": [
  {
   "cell_type": "code",
   "execution_count": null,
   "metadata": {},
   "outputs": [],
   "source": [
    "# 1.1 Max Consecutive Ones Exercise\n",
    "# Find the max number of consecutive 1's in the array.\n",
    "\n",
    "binArr = [1,1,0,1,0,1,1,1,0,1]\n",
    "count=0\n",
    "maxNum = 0\n",
    "for binNum in binArr: # O(n)\n",
    "    if binNum == 0:\n",
    "         count = 0\n",
    "    else:\n",
    "        count += 1\n",
    "        if maxNum < count:\n",
    "            maxNum = count\n",
    "print(maxNum)\n"
   ]
  },
  {
   "cell_type": "code",
   "execution_count": 12,
   "metadata": {},
   "outputs": [
    {
     "name": "stdout",
     "output_type": "stream",
     "text": [
      "2\n"
     ]
    }
   ],
   "source": [
    "# 1.2 Find Count(Number with Even Number of Digits)\n",
    "# Given an array nums of integers, return how many of them contain an even number of digits.\n",
    "\n",
    "numArr = [12,345,2,6,7896]\n",
    "for num in numArr:\n",
    "    if((len(str(num)) % 2) ==0):\n",
    "        count += 1\n",
    "print(count)\n"
   ]
  },
  {
   "cell_type": "code",
   "execution_count": 14,
   "metadata": {},
   "outputs": [
    {
     "name": "stdout",
     "output_type": "stream",
     "text": [
      "[0, 1, 9, 16, 100]\n"
     ]
    }
   ],
   "source": [
    "# 1.3 Squares of a Sorted Array\n",
    "# Given an integer array nums sorted in non-decreasing order, \n",
    "# return an array of the squares of each number sorted in non-decreasing order.\n",
    "\n",
    "sqrtArr = []\n",
    "numArr = [-4,-1,0,3,10]\n",
    "for num in numArr:\n",
    "    sqrtArr.append(num**2)\n",
    "    sqrtArr.sort()\n",
    "print(sqrtArr[0:5])\n"
   ]
  },
  {
   "cell_type": "code",
   "execution_count": 82,
   "metadata": {},
   "outputs": [
    {
     "name": "stdout",
     "output_type": "stream",
     "text": [
      "[1, 0, 0, 2, 3, 0, 0, 4]\n"
     ]
    }
   ],
   "source": [
    "# 2.1 Duplicate Zeros\n",
    "# Given a fixed length array arr of integers, duplicate each occurrence of zero, \n",
    "# shifting the remaining elements to the right.\n",
    "\n",
    "arr = [1,0,2,3,0,4,5,0]\n",
    "# expected output: 1,0,0,2,3,0,0,4\n",
    "\n",
    "n = len(arr)\n",
    "i = 0\n",
    "while i < len(arr)-1:\n",
    "    if arr[i] == 0:\n",
    "        arr.insert(i+1,0)\n",
    "        i += 2\n",
    "    else:\n",
    "        i += 1\n",
    "\n",
    "for j in range (len(arr)-n):\n",
    "    arr.pop()\n",
    "print(arr)\n",
    "        "
   ]
  },
  {
   "cell_type": "code",
   "execution_count": 111,
   "metadata": {},
   "outputs": [
    {
     "name": "stdout",
     "output_type": "stream",
     "text": [
      "[1, 2, 2, 3, 5, 6]\n"
     ]
    }
   ],
   "source": [
    "# 2.2 Merge Sorted Arrays\n",
    "# You are given two integer arrays nums1 and nums2, \n",
    "# sorted in non-decreasing order, and two integers m and n, \n",
    "# representing the number of elements in nums1 and nums2 respectively.\n",
    "\n",
    "# Merge nums1 and nums2 into a single array sorted in non-decreasing order.\n",
    "\n",
    "# The final sorted array should not be returned by the function,\n",
    "# but instead be stored inside the array nums1. \n",
    "# To accommodate this, nums1 has a length of m + n, \n",
    "# where the first m elements denote the elements that should be merged, \n",
    "# and the last n elements are set to 0 and should be ignored. nums2 has a length of n.\n",
    "\n",
    "nums1 = [1,2,3,0,0,0]\n",
    "nums2 = [2,5,6]\n",
    "m = 3\n",
    "n = 3\n",
    "k = m + n # total elements\n",
    "\n",
    "# Expected Output 1,2,2,3,5,6\n",
    "\n",
    "# this works but its too slow \n",
    "for i in range (0, n):\n",
    "    nums1.append(nums2[i])\n",
    "    nums1.sort()\n",
    "    nums1.remove(0)\n",
    "        \n",
    "print(nums1)\n"
   ]
  }
 ],
 "metadata": {
  "kernelspec": {
   "display_name": "Python 3",
   "language": "python",
   "name": "python3"
  },
  "language_info": {
   "codemirror_mode": {
    "name": "ipython",
    "version": 3
   },
   "file_extension": ".py",
   "mimetype": "text/x-python",
   "name": "python",
   "nbconvert_exporter": "python",
   "pygments_lexer": "ipython3",
   "version": "3.7.6"
  }
 },
 "nbformat": 4,
 "nbformat_minor": 4
}

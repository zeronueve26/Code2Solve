{
 "cells": [
  {
   "cell_type": "code",
   "execution_count": 1,
   "id": "678dd8ea",
   "metadata": {},
   "outputs": [],
   "source": [
    "# Nested Lists\n",
    "\n",
    "# Given the names and grades for each student in a class of  students, \n",
    "# store them in a nested list and print the name(s) of any student(s) having the second lowest grade.\n",
    "# If there are multiple students with the second lowest grade, \n",
    "# order their names alphabetically and print each name on a new line.\n",
    "\n",
    "\n"
   ]
  },
  {
   "cell_type": "code",
   "execution_count": null,
   "id": "885580fb",
   "metadata": {},
   "outputs": [],
   "source": []
  }
 ],
 "metadata": {
  "kernelspec": {
   "display_name": "Python 3",
   "language": "python",
   "name": "python3"
  },
  "language_info": {
   "codemirror_mode": {
    "name": "ipython",
    "version": 3
   },
   "file_extension": ".py",
   "mimetype": "text/x-python",
   "name": "python",
   "nbconvert_exporter": "python",
   "pygments_lexer": "ipython3",
   "version": "3.8.8"
  }
 },
 "nbformat": 4,
 "nbformat_minor": 5
}
